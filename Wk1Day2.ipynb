{
 "cells": [
  {
   "cell_type": "markdown",
   "metadata": {},
   "source": [
    "# Week One, Day One (06/17)\n",
    "### Submitted by Cecilia Cabiya \n",
    "\n",
    "### Exercise One"
   ]
  },
  {
   "cell_type": "code",
   "execution_count": 2,
   "metadata": {},
   "outputs": [
    {
     "name": "stdout",
     "output_type": "stream",
     "text": [
      "True\n",
      "True\n",
      "False\n",
      "True\n",
      "False\n"
     ]
    }
   ],
   "source": [
    "import re\n",
    "\n",
    "def string_check (input_string:str) -> None:\n",
    "    print((re.search(\"[a-zA-Z]|[0-9]\", input_string) != None)) # Alphanumeric\n",
    "    print((re.search(\"[a-zA-Z]\", input_string) != None)) # Alphabetic\n",
    "    print((re.search(\"[0-9]\", input_string) != None)) # Digits\n",
    "    print((re.search(\"[a-z]\", input_string) != None)) # Lowercase\n",
    "    print((re.search(\"[A-Z]\", input_string) != None)) # Uppercase\n",
    " \n",
    "user_string = input(\"What string would you like to evaluate?\")\n",
    "string_check(user_string)"
   ]
  },
  {
   "cell_type": "markdown",
   "metadata": {},
   "source": [
    "### Exercise Two"
   ]
  },
  {
   "cell_type": "code",
   "execution_count": 3,
   "metadata": {},
   "outputs": [
    {
     "name": "stdout",
     "output_type": "stream",
     "text": [
      "<re.Match object; span=(0, 5), match='input'>\n",
      "<re.Match object; span=(12, 14), match=' 1'>\n",
      "<re.Match object; span=(19, 20), match='!'>\n",
      "<re.Match object; span=(13, 19), match='122333'>\n"
     ]
    }
   ],
   "source": [
    "regex_string = \"input string 122333!\" # Arbitrary string\n",
    "# The one I choses atisfies all of the regex expressions\n",
    "# Feel free to change it if needed! :)\n",
    "\n",
    "print(re.search(r\"^\\w*\",regex_string)) # Word at he beginning of a string\n",
    "print(re.search(r\" \\d\",regex_string)) # Char after a whitespace is a digit\n",
    "print(re.search(r\"[.,?!]$\", regex_string)) # Str w/ punctuation at the end \n",
    "print(re.search(r\"[123]{2,}\", regex_string)) #1, 2, or 3 in sequence"
   ]
  },
  {
   "cell_type": "markdown",
   "metadata": {},
   "source": [
    "### Exercise Three"
   ]
  },
  {
   "cell_type": "code",
   "execution_count": 4,
   "metadata": {},
   "outputs": [
    {
     "name": "stdout",
     "output_type": "stream",
     "text": [
      "182734\n"
     ]
    }
   ],
   "source": [
    "book_path = \"Pride_and_Prejudice.txt\"\n",
    "with open(book_path, encoding = \"utf8\") as f:\n",
    "    book = f.read()\n",
    "print(len(re.split(r\" \", book))) "
   ]
  },
  {
   "cell_type": "markdown",
   "metadata": {},
   "source": [
    "### Exercise Four"
   ]
  },
  {
   "cell_type": "code",
   "execution_count": 7,
   "metadata": {},
   "outputs": [
    {
     "name": "stdout",
     "output_type": "stream",
     "text": [
      "hello\n",
      "world\n",
      "3\n"
     ]
    }
   ],
   "source": [
    "\n",
    "def word_games (string:str) -> int:\n",
    "   words = (re.split(\" \", string))\n",
    "   vowels = 0\n",
    "   for word in words:\n",
    "      print(word)\n",
    "\n",
    "      # Adds 2 points if there's an even number or vowels, otherwise adds 1\n",
    "      vowels = vowels + (2 if (len(re.findall(\"[aeiouy]\", word))%2 == 0) else 1)\n",
    "   return vowels\n",
    "\n",
    "print(word_games((input(\"Please input your words! \")).strip()))"
   ]
  }
 ],
 "metadata": {
  "kernelspec": {
   "display_name": "Python 3",
   "language": "python",
   "name": "python3"
  },
  "language_info": {
   "codemirror_mode": {
    "name": "ipython",
    "version": 3
   },
   "file_extension": ".py",
   "mimetype": "text/x-python",
   "name": "python",
   "nbconvert_exporter": "python",
   "pygments_lexer": "ipython3",
   "version": "3.12.4"
  }
 },
 "nbformat": 4,
 "nbformat_minor": 2
}
