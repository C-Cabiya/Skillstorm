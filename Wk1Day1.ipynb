{
 "cells": [
  {
   "cell_type": "markdown",
   "metadata": {},
   "source": [
    "# Week One, Day One (06/17)\n",
    "# Submitted by Cecilia Cabiya \n",
    "\n",
    "### Exercise One"
   ]
  },
  {
   "cell_type": "code",
   "execution_count": 3,
   "metadata": {},
   "outputs": [
    {
     "name": "stdout",
     "output_type": "stream",
     "text": [
      "2024-06-17\n",
      "351 days, 7:44:20.181501\n"
     ]
    }
   ],
   "source": [
    "import datetime\n",
    "\n",
    "# Get the current date and time\n",
    "now = datetime.datetime.now()\n",
    "print(now.strftime(\"%Y-%m-%d\"))\n",
    "my_next_birthday = datetime.datetime.strptime(\"2025-06-04\", \"%Y-%m-%d\")\n",
    "print(my_next_birthday-now) # Distance between now and my next birthday"
   ]
  },
  {
   "cell_type": "markdown",
   "metadata": {},
   "source": [
    "### Exercise Two"
   ]
  },
  {
   "cell_type": "code",
   "execution_count": 16,
   "metadata": {},
   "outputs": [
    {
     "name": "stdout",
     "output_type": "stream",
     "text": [
      "{'Student1': 98, 'Student2': 30, 'Student3': 76}\n",
      "{'Student1': 98, 'Student2': 30, 'Student3': 76, 'Student4': 85}\n",
      "{'Student1': {'ICSI404': 'Computer Architecture and Organization', 'ICSI409': 'Automata and Formal Languages', 'ICSI300Z': 'Societal and Ethical Implications of Computing'}, 'Student2': {'ICSI404': 'Computer Architecture and Organization', 'ICSI409': 'Automata and Formal Languages', 'ICSI300Z': 'Societal and Ethical Implications of Computing'}, 'Student3': {'ICSI404': 'Computer Architecture and Organization', 'ICSI409': 'Automata and Formal Languages', 'ICSI300Z': 'Societal and Ethical Implications of Computing'}, 'Student4': {'ICSI404': 'Computer Architecture and Organization', 'ICSI409': 'Automata and Formal Languages', 'ICSI300Z': 'Societal and Ethical Implications of Computing'}}\n",
      "{'Student2', 'Student1', 'Student4', 'Student3'}\n"
     ]
    }
   ],
   "source": [
    "students = {\n",
    "  \"Student1\": 98,\n",
    "  \"Student2\": 30,\n",
    "  \"Student3\": 76\n",
    "}\n",
    "\n",
    "print(students)\n",
    "\n",
    "students[\"Student4\"] = 85\n",
    "\n",
    "print(students)\n",
    "\n",
    "classes = {\n",
    "  \"ICSI404\": \"Computer Architecture and Organization\",\n",
    "  \"ICSI409\": \"Automata and Formal Languages\",\n",
    "  \"ICSI300Z\": \"Societal and Ethical Implications of Computing\"\n",
    "}\n",
    "\n",
    "for k, v in students.items():\n",
    "    students[k] = classes\n",
    "\n",
    "print(students)\n",
    "\n",
    "student_names = set(students.keys())\n",
    "\n",
    "print(student_names)\n",
    "\n",
    "\n"
   ]
  },
  {
   "cell_type": "markdown",
   "metadata": {},
   "source": [
    "### Exercise Three"
   ]
  },
  {
   "cell_type": "code",
   "execution_count": 33,
   "metadata": {},
   "outputs": [
    {
     "name": "stdout",
     "output_type": "stream",
     "text": [
      "['amet', 'sit', 'dolor', 'ipsum', 'Lorem']\n",
      "amet|sit|dolor|ipsum|Lorem\n",
      "3\n"
     ]
    }
   ],
   "source": [
    "string = \"Lorem ipsum dolor sit amet\"\n",
    "split_string = string.split()\n",
    "split_string = split_string[::-1] # Reversing it just to get a different resulting string\n",
    "print(split_string)\n",
    "\n",
    "resulting_string = \"\"\n",
    "for i,elem in enumerate(split_string):\n",
    "    resulting_string = resulting_string + elem \n",
    "    if(i < len(split_string)-1):\n",
    "        resulting_string = resulting_string+ \"|\"\n",
    "print(resulting_string)\n",
    "\n",
    "o_count = 0\n",
    "for char in resulting_string:\n",
    "    if char == \"o\":\n",
    "        o_count+=1\n",
    "print(o_count)\n"
   ]
  },
  {
   "cell_type": "markdown",
   "metadata": {},
   "source": [
    "### Exercise Four"
   ]
  },
  {
   "cell_type": "code",
   "execution_count": 38,
   "metadata": {},
   "outputs": [
    {
     "name": "stdout",
     "output_type": "stream",
     "text": [
      "[7, 8, 1, 0, 9, 2, 44]\n",
      "[7, 1, 0, 9, 2, 44]\n",
      "[0, 1, 2, 7, 9, 44]\n"
     ]
    }
   ],
   "source": [
    "ints = [7,8,1,0,9,2]\n",
    "ints.append(44)\n",
    "print(ints)\n",
    "\n",
    "ints.remove(8)\n",
    "print(ints)\n",
    "\n",
    "print(sorted(ints))"
   ]
  },
  {
   "cell_type": "markdown",
   "metadata": {},
   "source": [
    "# Challenge Assignments\n",
    "### Challenge Assignment One"
   ]
  },
  {
   "cell_type": "code",
   "execution_count": 44,
   "metadata": {},
   "outputs": [
    {
     "name": "stdout",
     "output_type": "stream",
     "text": [
      "[0, 1, 4, 9]\n",
      "[16, 432, 666]\n",
      "{'Paul': 'Leskowitz', 'Belle': 'n/a', 'Marvin': 'Mark', 'Dan': 'Hammond'}\n"
     ]
    }
   ],
   "source": [
    "import math\n",
    "\n",
    "squared = [num for num in range(11) if (math.sqrt(num)%1 == 0)]\n",
    "print(squared)\n",
    "\n",
    "numbers = [19, 16, 3 , 24567, 197, 437, 432, 666,]\n",
    "even = [num for num in numbers if(num%2 == 0)]\n",
    "print(even)\n",
    "\n",
    "first_names = [\"Paul\", \"Belle\", \"Marvin\", \"Dan\"]\n",
    "last_names = [\"Leskowitz\", \"n/a\", \"Mark\", \"Hammond\"]\n",
    "\n",
    "dict = {}\n",
    "for i, fname in enumerate(first_names):\n",
    "    dict[fname] = last_names[i]\n",
    "print(dict)"
   ]
  },
  {
   "cell_type": "markdown",
   "metadata": {},
   "source": [
    "### Challenge Assignment Two"
   ]
  },
  {
   "cell_type": "code",
   "execution_count": 45,
   "metadata": {},
   "outputs": [
    {
     "name": "stdout",
     "output_type": "stream",
     "text": [
      "1997-06-13 00:00:00\n"
     ]
    }
   ],
   "source": [
    "date = \"06131997\"\n",
    "date_obj = datetime.datetime.strptime(date, \"%m%d%Y\")\n",
    "print(date_obj)\n",
    "\n",
    "## Currently unfinished, the above is all I have completed"
   ]
  },
  {
   "cell_type": "markdown",
   "metadata": {},
   "source": [
    "### Challenge Assignment Three"
   ]
  },
  {
   "cell_type": "code",
   "execution_count": 50,
   "metadata": {},
   "outputs": [
    {
     "name": "stdout",
     "output_type": "stream",
     "text": [
      "72\n",
      "99\n"
     ]
    }
   ],
   "source": [
    "student_info = [{\"First Name\":\"Angel\", \"Last Name\":\"Torrez\", \"Grade\":88, \n",
    "                 \"Favorite Class\":\"History\"}, {\"First Name\":\"Ben\",  \n",
    "                 \"Last Name\":\"Mason\", \"Grade\":99, \"Favorite Class\":\"PE\"}, \n",
    "                 {\"First Name\":\"Phillip\", \"Last Name\":\"Sandwhich\", \"Grade\":30, \"Favorite Class\":\"Minecat\"}]\n",
    "\n",
    "total_grades = 0\n",
    "highest = 0\n",
    "for student in student_info:\n",
    "    total_grades = total_grades + student[\"Grade\"]\n",
    "    if student[\"Grade\"] > highest:\n",
    "        highest = student[\"Grade\"]\n",
    "\n",
    "average = total_grades/len(student_info)\n",
    "\n",
    "print(int(average))\n",
    "print(highest)"
   ]
  }
 ],
 "metadata": {
  "kernelspec": {
   "display_name": "Python 3",
   "language": "python",
   "name": "python3"
  },
  "language_info": {
   "codemirror_mode": {
    "name": "ipython",
    "version": 3
   },
   "file_extension": ".py",
   "mimetype": "text/x-python",
   "name": "python",
   "nbconvert_exporter": "python",
   "pygments_lexer": "ipython3",
   "version": "3.12.4"
  }
 },
 "nbformat": 4,
 "nbformat_minor": 2
}
